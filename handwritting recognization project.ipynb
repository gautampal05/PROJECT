{
 "cells": [
  {
   "cell_type": "code",
   "execution_count": 11,
   "id": "488b900a-b625-4769-bbb1-93c414d6da4d",
   "metadata": {},
   "outputs": [],
   "source": [
    "import numpy as np\n",
    "import matplotlib.pyplot as plt\n",
    "import tensorflow as tf\n",
    "from tensorflow.keras.datasets import mnist\n",
    "from tensorflow.keras.models import Sequential\n",
    "from tensorflow.keras.layers import Dense, Flatten\n",
    "from tensorflow.keras.utils import to_categorical\n"
   ]
  },
  {
   "cell_type": "code",
   "execution_count": 12,
   "id": "24e0fbc8-b55b-43ad-a5b6-026692447774",
   "metadata": {},
   "outputs": [
    {
     "name": "stdout",
     "output_type": "stream",
     "text": [
      "Training data shape: (60000, 28, 28)\n",
      "Testing data shape: (10000, 28, 28)\n"
     ]
    }
   ],
   "source": [
    "# MNIST is built into Keras\n",
    "(X_train, y_train), (X_test, y_test) = mnist.load_data()\n",
    "\n",
    "print(\"Training data shape:\", X_train.shape)\n",
    "print(\"Testing data shape:\", X_test.shape)\n"
   ]
  },
  {
   "cell_type": "code",
   "execution_count": 13,
   "id": "3a575086-30c8-4331-bba3-baabbe912aee",
   "metadata": {},
   "outputs": [
    {
     "data": {
      "image/png": "[encoded data removed]",
      "text/plain": [
       "<Figure size 500x500 with 9 Axes>"
      ]
     },
     "metadata": {},
     "output_type": "display_data"
    }
   ],
   "source": [
    "plt.figure(figsize=(5,5))\n",
    "for i in range(9):\n",
    "    plt.subplot(3, 3, i+1)\n",
    "    plt.imshow(X_train[i], cmap='gray')\n",
    "    plt.title(f\"Label: {y_train[i]}\")\n",
    "    plt.axis('off')\n",
    "plt.show()\n"
   ]
  },
  {
   "cell_type": "code",
   "execution_count": 4,
   "id": "78a53c70-427f-4d45-b48b-7daab12aad35",
   "metadata": {},
   "outputs": [],
   "source": [
    "# Normalize pixel values\n",
    "X_train = X_train.astype('float32') / 255.0\n",
    "X_test = X_test.astype('float32') / 255.0\n",
    "\n",
    "# Ensure correct one-hot encoding (to avoid double encoding)\n",
    "from tensorflow.keras.utils import to_categorical\n",
    "\n",
    "if y_train.ndim == 1:\n",
    "    y_train = to_categorical(y_train, 10)\n",
    "if y_test.ndim == 1:\n",
    "    y_test = to_categorical(y_test, 10)\n",
    "\n",
    "# Fix in case they got extra dimensions by mistake\n",
    "if y_train.ndim > 2:\n",
    "    y_train = np.argmax(y_train, axis=-1)\n",
    "    y_train = to_categorical(y_train, 10)\n",
    "\n",
    "if y_test.ndim > 2:\n",
    "    y_test = np.argmax(y_test, axis=-1)\n",
    "    y_test = to_categorical(y_test, 10)\n"
   ]
  },
  {
   "cell_type": "code",
   "execution_count": 5,
   "id": "7d6a7508-bfc0-4fb2-8f54-c45da9e92a23",
   "metadata": {},
   "outputs": [
    {
     "name": "stderr",
     "output_type": "stream",
     "text": [
      "C:\\Users\\palji\\AppData\\Local\\Programs\\Python\\Python310\\lib\\site-packages\\keras\\src\\layers\\reshaping\\flatten.py:37: UserWarning: Do not pass an `input_shape`/`input_dim` argument to a layer. When using Sequential models, prefer using an `Input(shape)` object as the first layer in the model instead.\n",
      "  super().__init__(**kwargs)\n"
     ]
    }
   ],
   "source": [
    "model = Sequential([\n",
    "    Flatten(input_shape=(28, 28)),       # Flatten 28x28 → 784\n",
    "    Dense(128, activation='relu'),       # Hidden layer\n",
    "    Dense(64, activation='relu'),        # Hidden layer\n",
    "    Dense(10, activation='softmax')      # Output layer (10 classes)\n",
    "])\n"
   ]
  },
  {
   "cell_type": "code",
   "execution_count": 6,
   "id": "8f55067e-2218-401d-b4c4-f09e02e00821",
   "metadata": {},
   "outputs": [],
   "source": [
    "model.compile(optimizer='adam',\n",
    "              loss='categorical_crossentropy',\n",
    "              metrics=['accuracy'])\n"
   ]
  },
  {
   "cell_type": "code",
   "execution_count": 7,
   "id": "3d3e5d21-a39f-4d3a-bc99-536041ff9e6f",
   "metadata": {},
   "outputs": [
    {
     "name": "stdout",
     "output_type": "stream",
     "text": [
      "Epoch 1/10\n",
      "422/422 - 6s - 15ms/step - accuracy: 0.8948 - loss: 0.3706 - val_accuracy: 0.9588 - val_loss: 0.1493\n",
      "Epoch 2/10\n",
      "422/422 - 3s - 7ms/step - accuracy: 0.9562 - loss: 0.1488 - val_accuracy: 0.9692 - val_loss: 0.1109\n",
      "Epoch 3/10\n",
      "422/422 - 3s - 7ms/step - accuracy: 0.9688 - loss: 0.1041 - val_accuracy: 0.9745 - val_loss: 0.0968\n",
      "Epoch 4/10\n",
      "422/422 - 3s - 7ms/step - accuracy: 0.9759 - loss: 0.0791 - val_accuracy: 0.9770 - val_loss: 0.0831\n",
      "Epoch 5/10\n",
      "422/422 - 3s - 7ms/step - accuracy: 0.9818 - loss: 0.0602 - val_accuracy: 0.9773 - val_loss: 0.0815\n",
      "Epoch 6/10\n",
      "422/422 - 3s - 7ms/step - accuracy: 0.9842 - loss: 0.0500 - val_accuracy: 0.9773 - val_loss: 0.0771\n",
      "Epoch 7/10\n",
      "422/422 - 3s - 7ms/step - accuracy: 0.9879 - loss: 0.0400 - val_accuracy: 0.9755 - val_loss: 0.0867\n",
      "Epoch 8/10\n",
      "422/422 - 3s - 7ms/step - accuracy: 0.9892 - loss: 0.0348 - val_accuracy: 0.9787 - val_loss: 0.0774\n",
      "Epoch 9/10\n",
      "422/422 - 3s - 8ms/step - accuracy: 0.9917 - loss: 0.0270 - val_accuracy: 0.9795 - val_loss: 0.0775\n",
      "Epoch 10/10\n",
      "422/422 - 3s - 7ms/step - accuracy: 0.9926 - loss: 0.0232 - val_accuracy: 0.9782 - val_loss: 0.0896\n"
     ]
    }
   ],
   "source": [
    "history = model.fit(X_train, y_train,\n",
    "                    validation_split=0.1,\n",
    "                    epochs=10,\n",
    "                    batch_size=128,\n",
    "                    verbose=2)\n"
   ]
  },
  {
   "cell_type": "code",
   "execution_count": 8,
   "id": "7e84caf7-6b53-4ed0-bb72-79d7dcf09887",
   "metadata": {},
   "outputs": [
    {
     "name": "stdout",
     "output_type": "stream",
     "text": [
      "Test Accuracy: 97.69%\n"
     ]
    }
   ],
   "source": [
    "test_loss, test_acc = model.evaluate(X_test, y_test, verbose=0)\n",
    "print(f\"Test Accuracy: {test_acc * 100:.2f}%\")\n"
   ]
  },
  {
   "cell_type": "code",
   "execution_count": 9,
   "id": "85e1a0ef-972a-454a-b981-ba0748113f82",
   "metadata": {},
   "outputs": [
    {
     "data": {
      "image/png": "[encoded data removed]",
      "text/plain": [
       "<Figure size 640x480 with 1 Axes>"
      ]
     },
     "metadata": {},
     "output_type": "display_data"
    }
   ],
   "source": [
    "plt.plot(history.history['accuracy'], label='Train Accuracy')\n",
    "plt.plot(history.history['val_accuracy'], label='Validation Accuracy')\n",
    "plt.xlabel(\"Epochs\")\n",
    "plt.ylabel(\"Accuracy\")\n",
    "plt.legend()\n",
    "plt.show()\n"
   ]
  },
  {
   "cell_type": "code",
   "execution_count": 10,
   "id": "87718da3-ae11-408b-a743-3994a93bb3c6",
   "metadata": {},
   "outputs": [
    {
     "name": "stdout",
     "output_type": "stream",
     "text": [
      "\u001b[1m313/313\u001b[0m \u001b[32m━━━━━━━━━━━━━━━━━━━━\u001b[0m\u001b[37m\u001b[0m \u001b[1m1s\u001b[0m 4ms/step\n"
     ]
    },
    {
     "data": {
      "image/png": "[encoded data removed]",
      "text/plain": [
       "<Figure size 640x480 with 1 Axes>"
      ]
     },
     "metadata": {},
     "output_type": "display_data"
    }
   ],
   "source": [
    "predictions = model.predict(X_test)\n",
    "\n",
    "# Display one example\n",
    "index = 0\n",
    "plt.imshow(X_test[index], cmap='gray')\n",
    "plt.title(f\"Predicted: {np.argmax(predictions[index])}\")\n",
    "plt.axis('off')\n",
    "plt.show()\n"
   ]
  },
  {
   "cell_type": "code",
   "execution_count": null,
   "id": "a682b77e-0dbf-401d-974c-5d4063fa9c26",
   "metadata": {},
   "outputs": [],
   "source": []
  },
  {
   "cell_type": "code",
   "execution_count": null,
   "id": "29c1879c-44c9-4e2e-97a8-baf0e13c25af",
   "metadata": {},
   "outputs": [],
   "source": []
  },
  {
   "cell_type": "code",
   "execution_count": null,
   "id": "0de68b8c-9d62-4f5a-b312-1ce78db839ec",
   "metadata": {},
   "outputs": [],
   "source": []
  }
 ],
 "metadata": {
  "kernelspec": {
   "display_name": "Python 3 (ipykernel)",
   "language": "python",
   "name": "python3"
  },
  "language_info": {
   "codemirror_mode": {
    "name": "ipython",
    "version": 3
   },
   "file_extension": ".py",
   "mimetype": "text/x-python",
   "name": "python",
   "nbconvert_exporter": "python",
   "pygments_lexer": "ipython3",
   "version": "3.10.0"
  }
 },
 "nbformat": 4,
 "nbformat_minor": 5
}
